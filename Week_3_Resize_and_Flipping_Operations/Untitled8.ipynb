{
 "cells": [
  {
   "cell_type": "code",
   "execution_count": 1,
   "id": "f54b9786",
   "metadata": {},
   "outputs": [],
   "source": [
    "import cv2\n",
    "import numpy as np"
   ]
  },
  {
   "cell_type": "code",
   "execution_count": 2,
   "id": "2dcca52b",
   "metadata": {},
   "outputs": [
    {
     "name": "stdout",
     "output_type": "stream",
     "text": [
      "(500, 333, 3)\n"
     ]
    }
   ],
   "source": [
    "my_img = cv2.imread(\"./selena_resim.jpg\",1)\n",
    "print(my_img.shape)"
   ]
  },
  {
   "cell_type": "code",
   "execution_count": 3,
   "id": "8d3940a9",
   "metadata": {},
   "outputs": [],
   "source": [
    "cv2.imshow(\"RGB Image\",my_img)\n",
    "cv2.waitKey(0)\n",
    "cv2.destroyAllWindows()"
   ]
  },
  {
   "cell_type": "code",
   "execution_count": 4,
   "id": "60325945",
   "metadata": {},
   "outputs": [],
   "source": [
    "img_vertical=cv2.flip(my_img,0)\n",
    "img_horizontal=cv2.flip(my_img,1)\n",
    "img_both=cv2.flip(my_img,-1)"
   ]
  },
  {
   "cell_type": "code",
   "execution_count": 5,
   "id": "3daf17a9",
   "metadata": {},
   "outputs": [],
   "source": [
    "cv2.imshow(\"Original Image\",my_img)\n",
    "cv2.imshow(\"Vertical Image\",img_vertical)\n",
    "cv2.imshow(\"Horizontal Image\",img_horizontal)\n",
    "cv2.imshow(\"Vertical and Horizontal Image\",img_both)\n",
    "cv2.waitKey(0)\n",
    "cv2.destroyAllWindows()"
   ]
  },
  {
   "cell_type": "code",
   "execution_count": 25,
   "id": "dfc26407",
   "metadata": {},
   "outputs": [],
   "source": [
    "vertical_with_code = my_img[::-1,:,:]\n",
    "cv2.imshow(\"Vertical Image With Code\",vertical_with_code)\n",
    "cv2.waitKey(0)\n",
    "cv2.destroyAllWindows()"
   ]
  },
  {
   "cell_type": "code",
   "execution_count": 26,
   "id": "a60fd4ed",
   "metadata": {},
   "outputs": [],
   "source": [
    "vertical_with_code = my_img[:,:,:]\n",
    "rotated_image = cv2.rotate(vertical_with_code, cv2.ROTATE_90_CLOCKWISE)\n",
    "cv2.imshow(\"rotated Image\",rotated_image)\n",
    "cv2.waitKey(0)\n",
    "cv2.destroyAllWindows()"
   ]
  },
  {
   "cell_type": "code",
   "execution_count": 27,
   "id": "b5ab481c",
   "metadata": {},
   "outputs": [
    {
     "name": "stdout",
     "output_type": "stream",
     "text": [
      "(500, 333, 3)\n",
      "görüntünün yüksekliği = 500\n",
      "görüntünün genişliği = 333\n",
      "görüntünün kanal sayısı = 3\n"
     ]
    }
   ],
   "source": [
    "print(my_img.shape)\n",
    "print(f\"görüntünün yüksekliği = {my_img.shape[0]}\")\n",
    "print(f\"görüntünün genişliği = {my_img.shape[1]}\" )\n",
    "print(f\"görüntünün kanal sayısı = {my_img.shape[2]}\")\n"
   ]
  },
  {
   "cell_type": "code",
   "execution_count": 31,
   "id": "0cae65b9",
   "metadata": {},
   "outputs": [],
   "source": [
    "resized_img_kucultme = cv2.resize(my_img,(176,250),cv2.INTER_LANCZOS4)\n",
    "resized_img_buyutme = cv2.resize(my_img,(666,1000),cv2.INTER_LANCZOS4)\n",
    "\n",
    "cv2.imshow(\"Original Image\",my_img)\n",
    "cv2.imshow(\"Küçültülmüş Görüntü\",resized_img_kucultme)\n",
    "cv2.imshow(\"Büyütülmüş Görüntü\",resized_img_buyutme)\n",
    "cv2.waitKey(0)\n",
    "cv2.destroyAllWindows()"
   ]
  },
  {
   "cell_type": "code",
   "execution_count": null,
   "id": "977b5a90",
   "metadata": {},
   "outputs": [],
   "source": []
  },
  {
   "cell_type": "code",
   "execution_count": null,
   "id": "7fac6673",
   "metadata": {},
   "outputs": [],
   "source": []
  }
 ],
 "metadata": {
  "kernelspec": {
   "display_name": "env_ybs_irem_new",
   "language": "python",
   "name": "env_ybs_irem_new"
  },
  "language_info": {
   "codemirror_mode": {
    "name": "ipython",
    "version": 3
   },
   "file_extension": ".py",
   "mimetype": "text/x-python",
   "name": "python",
   "nbconvert_exporter": "python",
   "pygments_lexer": "ipython3",
   "version": "3.10.10"
  }
 },
 "nbformat": 4,
 "nbformat_minor": 5
}
