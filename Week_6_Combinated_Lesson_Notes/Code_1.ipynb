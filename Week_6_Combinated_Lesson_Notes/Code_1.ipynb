{
 "cells": [
  {
   "cell_type": "code",
   "execution_count": 1,
   "id": "6f7e1df6-bb29-4598-81fd-37456a325b97",
   "metadata": {},
   "outputs": [],
   "source": [
    "import cv2\n",
    "import matplotlib.pyplot as plt\n",
    "import numpy as np"
   ]
  },
  {
   "cell_type": "code",
   "execution_count": 2,
   "id": "6f1302e4-2895-4b32-b417-9d6e6dda81e6",
   "metadata": {},
   "outputs": [],
   "source": [
    "# import anahtar kelimesi bir kütüphaneyi içe aktarmaya yarar.\n",
    "# as ifadesi ise bir kütüphaneyi daha kısa bir isim ile kullanmamıza yarar\n",
    "# matplotlib ve cv2 görüntü işleme ve veri görselleştirme için kullanılır"
   ]
  },
  {
   "cell_type": "code",
   "execution_count": 3,
   "id": "46b96810-ce8a-4c36-a743-33182ff28a62",
   "metadata": {},
   "outputs": [],
   "source": [
    "# bir görüntüyü okumak için cv2.imread() fonksiyonu kullanılır\n",
    "# bu fonksiyon 1 ya da 2 parametre alır.\n",
    "# tek parametre aldığı hali ile kullanımı:\n",
    "# my_img = cv2.imread(\"görüntünün olduğu dizin/görüntünün adı.görüntünün uzantısı\")\n",
    "# tek parametre ile görüntü okunduğunda varsayılan olarak 3 kanallı renkli\n",
    "# bir görüntü olarak okunur.\n",
    "# cv2 kütüphanesinde renk kanallarının sıralaması RGB şeklinde değil de \n",
    "# BGR şeklindedir.\n",
    "# B: Blue (mavi) kanal\n",
    "# G: Green (yeşil) kanal\n",
    "# R: Red (kırmızı) kanal\n",
    "# Not: Bütün renkler bu üç rengin belli oranlarda birleşiminden meydana gelir.\n",
    "\n",
    "my_img_1 = cv2.imread(\"./aslan.jpg\")"
   ]
  },
  {
   "cell_type": "code",
   "execution_count": 4,
   "id": "55869637-5c00-4dee-b8be-86a3392e980f",
   "metadata": {},
   "outputs": [],
   "source": [
    "# Görüntüyü renkli bir şekilde okumanın 2. yolu\n",
    "# my_img_2 = cv2.imread(\"dosya yolu/dosya adı.uzantı\",1)\n",
    "# 2 parametreli imread() kullanımında da 2. parametre eğer 1 ise\n",
    "# görüntü yine BGR sıralamasında renkli olarak 3 kanallı şekilde okunur.\n",
    "\n",
    "my_img_2 = cv2.imread(\"./aslan.jpg\",1)"
   ]
  },
  {
   "cell_type": "code",
   "execution_count": 5,
   "id": "308333e8-db97-444e-b187-d8daf1ee0fd4",
   "metadata": {},
   "outputs": [
    {
     "name": "stdout",
     "output_type": "stream",
     "text": [
      "(900, 1200, 3)\n",
      "--------------------------------------------------\n",
      "Görüntünün yüksekliği = 900\n",
      "Görüntünün genişliği = 1200\n",
      "Görüntünün kanal sayısı = 3\n"
     ]
    }
   ],
   "source": [
    "# Bir görüntünün sırayla yükseklik, genişlik ve kanal sayısı bilgisini\n",
    "# öğrenmek için numpy kütüphanesinin shape attribute'si yani özelliği kullanılır\n",
    "# shape özelliği görüntünün yükseklik, genişlik ve kanal sayısını\n",
    "# döndürür.\n",
    "# Eğer görüntü 3 kanallı renkli görüntü ise shape özelliği 3 tane değer döndürür\n",
    "# 1. değer görüntünün yüksekliği\n",
    "# 2. değer görüntünün genişliği\n",
    "# 3. değer görüntünün kanal sayısı (genellikle 3'tür)\n",
    "\n",
    "print(my_img_1.shape)\n",
    "print(\"-\"*50)\n",
    "print(f\"Görüntünün yüksekliği = {my_img_1.shape[0]}\")\n",
    "print(f\"Görüntünün genişliği = {my_img_1.shape[1]}\")\n",
    "print(f\"Görüntünün kanal sayısı = {my_img_1.shape[2]}\")"
   ]
  },
  {
   "cell_type": "code",
   "execution_count": null,
   "id": "b5c81ece-15f9-419d-8cf3-0ee247787359",
   "metadata": {},
   "outputs": [],
   "source": []
  }
 ],
 "metadata": {
  "kernelspec": {
   "display_name": "env_ybs_irem_new",
   "language": "python",
   "name": "env_ybs_irem_new"
  },
  "language_info": {
   "codemirror_mode": {
    "name": "ipython",
    "version": 3
   },
   "file_extension": ".py",
   "mimetype": "text/x-python",
   "name": "python",
   "nbconvert_exporter": "python",
   "pygments_lexer": "ipython3",
   "version": "3.10.10"
  }
 },
 "nbformat": 4,
 "nbformat_minor": 5
}
