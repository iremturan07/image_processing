{
 "cells": [
  {
   "cell_type": "code",
   "execution_count": 1,
   "id": "276f6f99",
   "metadata": {},
   "outputs": [],
   "source": [
    "import tensorflow as tf\n",
    "import tensorflow_hub as hub\n",
    "import numpy as np\n",
    "from PIL import Image"
   ]
  },
  {
   "cell_type": "code",
   "execution_count": 10,
   "id": "2016b597",
   "metadata": {},
   "outputs": [
    {
     "name": "stdout",
     "output_type": "stream",
     "text": [
      "stil aktarma işlemi başlıyor...\n"
     ]
    }
   ],
   "source": [
    "def load_img(image_path):\n",
    "    img = tf.io.read_file(image_path)\n",
    "    img = tf.image.decode_image(img, channels=3)\n",
    "    img = tf.image.convert_image_dtype(img, tf.float32)\n",
    "    img = img[tf.newaxis, :]\n",
    "    return img\n",
    "\n",
    "model= hub.load('https://tfhub.dev/google/magenta/arbitrary-image-stylization-v1-256/2')\n",
    "\n",
    "img_input = load_img(\"./input.jpg\")\n",
    "\n",
    "img_style = load_img(\"./deef.jpg\")\n",
    "\n",
    "print(\"stil aktarma işlemi başlıyor...\")\n",
    "my_output_img = model(img_input, img_style)[0]\n",
    "\n",
    "my_output_img = tf.keras.preprocessing.image.array_to_img(my_output_img[0])\n",
    "my_output_img.save(\"./my_transformed_img_1.png\")"
   ]
  },
  {
   "cell_type": "code",
   "execution_count": null,
   "id": "c067b41e",
   "metadata": {},
   "outputs": [],
   "source": []
  }
 ],
 "metadata": {
  "kernelspec": {
   "display_name": "env_ybs_irem_new",
   "language": "python",
   "name": "env_ybs_irem_new"
  },
  "language_info": {
   "codemirror_mode": {
    "name": "ipython",
    "version": 3
   },
   "file_extension": ".py",
   "mimetype": "text/x-python",
   "name": "python",
   "nbconvert_exporter": "python",
   "pygments_lexer": "ipython3",
   "version": "3.10.10"
  }
 },
 "nbformat": 4,
 "nbformat_minor": 5
}
